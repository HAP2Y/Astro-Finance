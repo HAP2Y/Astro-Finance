{
  "nbformat": 4,
  "nbformat_minor": 0,
  "metadata": {
    "colab": {
      "provenance": [],
      "authorship_tag": "ABX9TyPHjJos6M2mwlsMyOlLATJw",
      "include_colab_link": true
    },
    "kernelspec": {
      "name": "python3",
      "display_name": "Python 3"
    },
    "language_info": {
      "name": "python"
    }
  },
  "cells": [
    {
      "cell_type": "markdown",
      "metadata": {
        "id": "view-in-github",
        "colab_type": "text"
      },
      "source": [
        "<a href=\"https://colab.research.google.com/github/HAP2Y/Astro-Finance/blob/main/Astro_Finance.ipynb\" target=\"_parent\"><img src=\"https://colab.research.google.com/assets/colab-badge.svg\" alt=\"Open In Colab\"/></a>"
      ]
    },
    {
      "cell_type": "code",
      "execution_count": 2,
      "metadata": {
        "colab": {
          "base_uri": "https://localhost:8080/"
        },
        "id": "kZAPQjIDCCVf",
        "outputId": "d7366803-9eb0-4b1a-e26a-06e8afd96f55"
      },
      "outputs": [
        {
          "output_type": "stream",
          "name": "stdout",
          "text": [
            "Mounted at /content/drive\n",
            "Project root: /content/drive/MyDrive/astro_finance\n"
          ]
        }
      ],
      "source": [
        "# Colab cell 1: Install required packages\n",
        "!pip install --upgrade pandas numpy pytz pyarrow yfinance pyswisseph nsepy scikit-learn xgboost lightgbm shap vectorbt --quiet\n",
        "\n",
        "# If using Google Drive to persist data\n",
        "from google.colab import drive\n",
        "drive.mount('/content/drive')  # follow the interactive prompt\n",
        "\n",
        "# Make project folders\n",
        "import os\n",
        "PROJECT_ROOT = \"/content/drive/MyDrive/astro_finance\"  # change if you want another path\n",
        "os.makedirs(PROJECT_ROOT, exist_ok=True)\n",
        "os.makedirs(os.path.join(PROJECT_ROOT, \"raw\"), exist_ok=True)\n",
        "os.makedirs(os.path.join(PROJECT_ROOT, \"processed\"), exist_ok=True)\n",
        "print(\"Project root:\", PROJECT_ROOT)\n",
        "\n"
      ]
    },
    {
      "cell_type": "code",
      "source": [
        "# Colab cell 2A: Fetch using yfinance (example: NIFTY 50 via ^NSEI or a sample ticker)\n",
        "import yfinance as yf\n",
        "import pandas as pd\n",
        "\n",
        "# Example tickers you can change: '^NSEI' (Nifty 50), '^NSEBANK' (Banking), use specific stock tickers for sectors\n",
        "tickers = {\n",
        "    \"NIFTY50\": \"^NSEI\",\n",
        "    \"RELIANCE\": \"RELIANCE.NS\",\n",
        "    \"TCS\": \"TCS.NS\",\n",
        "    # or use individual stocks: \"RELIANCE.NS\", \"TCS.NS\"\n",
        "}\n",
        "\n",
        "start=\"2000-01-01\"\n",
        "end=\"2025-10-26\"  # keep end inclusive; change as needed\n",
        "\n",
        "dfs = {}\n",
        "for name, tk in tickers.items():\n",
        "    print(\"Downloading\", tk)\n",
        "    df = yf.download(tk, start=start, end=end, progress=False)\n",
        "    if df.empty:\n",
        "        print(f\"Warning: {tk} returned empty — you may need to pick a different symbol or data source.\")\n",
        "    else:\n",
        "        df.index = pd.to_datetime(df.index).tz_localize(None)  # remove tz for alignment\n",
        "        dfs[name] = df\n",
        "\n",
        "# Example: save a combined file\n",
        "for name, df in dfs.items():\n",
        "    path = f\"{PROJECT_ROOT}/raw/{name}.parquet\"\n",
        "    df.to_parquet(path)\n",
        "    print(\"Saved\", path)\n"
      ],
      "metadata": {
        "colab": {
          "base_uri": "https://localhost:8080/"
        },
        "id": "gIDlaNdZDo6O",
        "outputId": "5c26d03c-c5e3-490f-b79e-085b541b8632"
      },
      "execution_count": 3,
      "outputs": [
        {
          "output_type": "stream",
          "name": "stdout",
          "text": [
            "Downloading ^NSEI\n"
          ]
        },
        {
          "output_type": "stream",
          "name": "stderr",
          "text": [
            "/tmp/ipython-input-3992045995.py:19: FutureWarning: YF.download() has changed argument auto_adjust default to True\n",
            "  df = yf.download(tk, start=start, end=end, progress=False)\n"
          ]
        },
        {
          "output_type": "stream",
          "name": "stdout",
          "text": [
            "Downloading RELIANCE.NS\n"
          ]
        },
        {
          "output_type": "stream",
          "name": "stderr",
          "text": [
            "/tmp/ipython-input-3992045995.py:19: FutureWarning: YF.download() has changed argument auto_adjust default to True\n",
            "  df = yf.download(tk, start=start, end=end, progress=False)\n"
          ]
        },
        {
          "output_type": "stream",
          "name": "stdout",
          "text": [
            "Downloading TCS.NS\n"
          ]
        },
        {
          "output_type": "stream",
          "name": "stderr",
          "text": [
            "/tmp/ipython-input-3992045995.py:19: FutureWarning: YF.download() has changed argument auto_adjust default to True\n",
            "  df = yf.download(tk, start=start, end=end, progress=False)\n"
          ]
        },
        {
          "output_type": "stream",
          "name": "stdout",
          "text": [
            "Saved /content/drive/MyDrive/astro_finance/raw/NIFTY50.parquet\n",
            "Saved /content/drive/MyDrive/astro_finance/raw/RELIANCE.parquet\n",
            "Saved /content/drive/MyDrive/astro_finance/raw/TCS.parquet\n"
          ]
        }
      ]
    },
    {
      "cell_type": "code",
      "source": [
        "# Colab cell 3: planetary ephemeris generation (daily) using pyswisseph\n",
        "import swisseph as swe\n",
        "import numpy as np\n",
        "import pandas as pd\n",
        "from datetime import datetime, timedelta\n",
        "\n",
        "# configure sidereal mode to Lahiri\n",
        "swe.set_sid_mode(swe.SIDM_LAHIRI)\n",
        "\n",
        "PLANETS = {\n",
        "    'Sun': swe.SUN,\n",
        "    'Moon': swe.MOON,\n",
        "    'Mercury': swe.MERCURY,\n",
        "    'Venus': swe.VENUS,\n",
        "    'Mars': swe.MARS,\n",
        "    'Jupiter': swe.JUPITER,\n",
        "    'Saturn': swe.SATURN,\n",
        "    'Rahu': swe.MEAN_NODE  # mean node (Rahu); Ketu = node + 180\n",
        "}\n",
        "\n",
        "def generate_ephemeris(start_date, end_date, timezone='UTC', step='1D'):\n",
        "    dates = pd.date_range(start=start_date, end=end_date, freq=step)\n",
        "    rows = []\n",
        "    for dt in dates:\n",
        "        # convert to Julian Day (UT)\n",
        "        # swe.julday expects year, month, day, hour (UT decimal)\n",
        "        jday = swe.julday(dt.year, dt.month, dt.day, dt.hour + dt.minute/60.0 + dt.second/3600.0)\n",
        "        row = {'date': dt.date()}\n",
        "        for name, pid in PLANETS.items():\n",
        "            ecl = swe.calc_ut(jday, pid)[0]  # returns array: [longitude, latitude, distance, ...]\n",
        "            lon = float(ecl[0]) % 360.0\n",
        "            row[f\"{name}_lon\"] = lon\n",
        "            # compute speed (approx using 1-day difference) for retrograde flag\n",
        "        rows.append(row)\n",
        "    df = pd.DataFrame(rows).set_index('date')\n",
        "\n",
        "    # compute speeds with small forward diff to get retrograde (vectorized)\n",
        "    # recompute with half-day offset for better speed estimate\n",
        "    def lon_for_date(dt, pid):\n",
        "        jday = swe.julday(dt.year, dt.month, dt.day, dt.hour + dt.minute/60.0)\n",
        "        return float(swe.calc_ut(jday, pid)[0]) % 360.0\n",
        "\n",
        "    # Add rashi, nakshatra, retrograde approx by day-to-day diff\n",
        "    for name, pid in PLANETS.items():\n",
        "        lon_col = f\"{name}_lon\"\n",
        "        # rashi 1-12 (1 = Aries). rashi_index 0..11\n",
        "        df[f\"{name}_rashi\"] = (df[lon_col] // 30).astype(int) + 1\n",
        "        # nakshatra 1-27 (each 13°20' = 13.3333333 deg)\n",
        "        df[f\"{name}_nakshatra\"] = (df[lon_col] // (360.0/27.0)).astype(int) + 1\n",
        "\n",
        "    # speed approximation: difference between consecutive days (handle circular wrap)\n",
        "    for name in PLANETS.keys():\n",
        "        lon = df[f\"{name}_lon\"].values\n",
        "        # minimal circular difference\n",
        "        diff = np.angle(np.deg2rad(lon[1:]) - np.deg2rad(lon[:-1]))  # returns radians in -pi..pi; careful\n",
        "        # Simpler robust circular diff (deg)\n",
        "        degdiff = ( (lon[1:] - lon[:-1] + 180) % 360 ) - 180\n",
        "        degdiff = np.insert(degdiff, 0, np.nan)\n",
        "        df[f\"{name}_speed_deg_per_day\"] = degdiff\n",
        "        df[f\"{name}_is_retrograde\"] = df[f\"{name}_speed_deg_per_day\"] < 0\n",
        "\n",
        "    # example: compute conjunctions within x degrees for each day (pairwise)\n",
        "    # compute absolute angle difference (0..180)\n",
        "    planet_names = list(PLANETS.keys())\n",
        "    for i in range(len(planet_names)):\n",
        "        for j in range(i+1, len(planet_names)):\n",
        "            a = planet_names[i]; b = planet_names[j]\n",
        "            diff = np.abs(((df[f\"{a}_lon\"] - df[f\"{b}_lon\"] + 180) % 360) - 180)  # 0..180\n",
        "            df[f\"{a}_{b}_sep_deg\"] = diff\n",
        "            # boolean near conjunction if separation < 5 degrees (tunable)\n",
        "            df[f\"{a}_{b}_conj_5deg\"] = diff <= 5.0\n",
        "\n",
        "    return df\n",
        "\n",
        "# Run for your analysis window\n",
        "ephem = generate_ephemeris(\"2000-01-01\", \"2025-10-26\")\n",
        "ephem.to_parquet(f\"{PROJECT_ROOT}/processed/ephemeris_daily_lahiri.parquet\")\n",
        "print(\"Saved ephemeris to processed/ephemeris_daily_lahiri.parquet\")\n",
        "\n"
      ],
      "metadata": {
        "colab": {
          "base_uri": "https://localhost:8080/"
        },
        "id": "w2_C5yWqFQc_",
        "outputId": "56748025-364f-4823-e3ce-977a2ef7d755"
      },
      "execution_count": 4,
      "outputs": [
        {
          "output_type": "stream",
          "name": "stdout",
          "text": [
            "Saved ephemeris to processed/ephemeris_daily_lahiri.parquet\n"
          ]
        }
      ]
    },
    {
      "cell_type": "code",
      "source": [
        "# Colab cell 4: align market daily OHLC with ephemeris daily\n",
        "import pandas as pd\n",
        "\n",
        "# load market data saved earlier (example uses TCS/NIFTY files)\n",
        "market_files = [f for f in os.listdir(os.path.join(PROJECT_ROOT, \"raw\")) if f.endswith(\".parquet\")]\n",
        "aligned = {}\n",
        "for mf in market_files:\n",
        "    mdf = pd.read_parquet(os.path.join(PROJECT_ROOT, \"raw\", mf))\n",
        "    # Drop the 'Ticker' level from the columns of mdf\n",
        "    if isinstance(mdf.columns, pd.MultiIndex) and 'Ticker' in mdf.columns.names:\n",
        "        mdf.columns = mdf.columns.droplevel('Ticker')\n",
        "    # ensure date index and daily frequency (close-to-close)\n",
        "    mdf.index = pd.to_datetime(mdf.index).date\n",
        "    # align to ephemeris index (dates)\n",
        "    ep = pd.read_parquet(f\"{PROJECT_ROOT}/processed/ephemeris_daily_lahiri.parquet\")\n",
        "    ep.index = pd.to_datetime(ep.index).date\n",
        "    combined = ep.join(mdf, how='left')  # left join ephemeris; you can change to inner\n",
        "    # compute daily returns (close-to-close)\n",
        "    if 'Close' in combined.columns or 'close' in combined.columns:\n",
        "        close_col = 'Close' if 'Close' in combined.columns else 'close'\n",
        "        combined['return_1d'] = combined[close_col].pct_change()\n",
        "    # save per-market aligned dataset\n",
        "    outname = mf.replace('.parquet', '_aligned.parquet')\n",
        "    combined.to_parquet(os.path.join(PROJECT_ROOT, \"processed\", outname))\n",
        "    print(\"Saved aligned:\", outname)"
      ],
      "metadata": {
        "colab": {
          "base_uri": "https://localhost:8080/"
        },
        "id": "YoavgH2KFcSU",
        "outputId": "bfdea0ac-cbdb-48c2-d452-b2a46a457787"
      },
      "execution_count": 6,
      "outputs": [
        {
          "output_type": "stream",
          "name": "stderr",
          "text": [
            "/tmp/ipython-input-150368615.py:21: FutureWarning: The default fill_method='pad' in Series.pct_change is deprecated and will be removed in a future version. Either fill in any non-leading NA values prior to calling pct_change or specify 'fill_method=None' to not fill NA values.\n",
            "  combined['return_1d'] = combined[close_col].pct_change()\n"
          ]
        },
        {
          "output_type": "stream",
          "name": "stdout",
          "text": [
            "Saved aligned: NIFTY50_aligned.parquet\n"
          ]
        },
        {
          "output_type": "stream",
          "name": "stderr",
          "text": [
            "/tmp/ipython-input-150368615.py:21: FutureWarning: The default fill_method='pad' in Series.pct_change is deprecated and will be removed in a future version. Either fill in any non-leading NA values prior to calling pct_change or specify 'fill_method=None' to not fill NA values.\n",
            "  combined['return_1d'] = combined[close_col].pct_change()\n"
          ]
        },
        {
          "output_type": "stream",
          "name": "stdout",
          "text": [
            "Saved aligned: RELIANCE_aligned.parquet\n"
          ]
        },
        {
          "output_type": "stream",
          "name": "stderr",
          "text": [
            "/tmp/ipython-input-150368615.py:21: FutureWarning: The default fill_method='pad' in Series.pct_change is deprecated and will be removed in a future version. Either fill in any non-leading NA values prior to calling pct_change or specify 'fill_method=None' to not fill NA values.\n",
            "  combined['return_1d'] = combined[close_col].pct_change()\n"
          ]
        },
        {
          "output_type": "stream",
          "name": "stdout",
          "text": [
            "Saved aligned: TCS_aligned.parquet\n"
          ]
        }
      ]
    },
    {
      "cell_type": "code",
      "source": [
        "# Colab cell 5: quick checks\n",
        "import pandas as pd\n",
        "sample = pd.read_parquet(f\"{PROJECT_ROOT}/processed/ephemeris_daily_lahiri.parquet\").head(5)\n",
        "print(\"Ephemeris sample:\\n\", sample[[c for c in sample.columns if '_lon' in c]].head())\n",
        "\n",
        "aligned_files = [f for f in os.listdir(os.path.join(PROJECT_ROOT, \"processed\")) if \"_aligned\" in f]\n",
        "for af in aligned_files:\n",
        "    df = pd.read_parquet(os.path.join(PROJECT_ROOT, \"processed\", af))\n",
        "    print(af, \"rows:\", len(df), \"columns:\", len(df.columns))\n",
        "    print(df[['return_1d']].dropna().describe().to_string())\n",
        "    break\n"
      ],
      "metadata": {
        "colab": {
          "base_uri": "https://localhost:8080/"
        },
        "id": "do4AL7bbFvVf",
        "outputId": "42f6a8cb-2c71-4315-bce2-c9d0bbc8f28f"
      },
      "execution_count": 7,
      "outputs": [
        {
          "output_type": "stream",
          "name": "stdout",
          "text": [
            "Ephemeris sample:\n",
            "                Sun_lon    Moon_lon  Mercury_lon   Venus_lon    Mars_lon  \\\n",
            "date                                                                      \n",
            "2000-01-01  279.859216  217.293367   271.111805  240.961421  327.575480   \n",
            "2000-01-02  280.878648  229.317135   272.668066  242.170461  328.351154   \n",
            "2000-01-03  281.898169  241.221768   274.229691  243.380617  329.126848   \n",
            "2000-01-04  282.917757  253.060244   275.796853  244.591842  329.902547   \n",
            "2000-01-05  283.937386  264.877534   277.369741  245.804088  330.678230   \n",
            "\n",
            "            Jupiter_lon  Saturn_lon    Rahu_lon  \n",
            "date                                             \n",
            "2000-01-01    25.233072   40.405840  125.067123  \n",
            "2000-01-02    25.273833   40.385896  125.014171  \n",
            "2000-01-03    25.317966   40.367786  124.961229  \n",
            "2000-01-04    25.365454   40.351522  124.908294  \n",
            "2000-01-05    25.416276   40.337111  124.855365  \n",
            "NIFTY50_aligned.parquet rows: 9431 columns: 102\n",
            "         return_1d\n",
            "count  6614.000000\n",
            "mean      0.000322\n",
            "std       0.010740\n",
            "min      -0.129805\n",
            "25%      -0.001956\n",
            "50%       0.000000\n",
            "75%       0.003327\n",
            "max       0.177441\n"
          ]
        }
      ]
    }
  ]
}